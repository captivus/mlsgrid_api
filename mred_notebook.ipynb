{
 "cells": [
  {
   "cell_type": "markdown",
   "metadata": {},
   "source": [
    "# MLSGrid MRED MLS Replication Working Notebook\n",
    "## Objectives & Overview\n",
    "This project will, ultimately, deploy an application to Amazon Web Services (AWS) which accomplishes the following primary objectives.\n",
    "* Replicates the MRED MLS database\n",
    "    1. First in an initial replication and then\n",
    "    1. Maintains an updated replica of the MLS\n",
    "* Provides an API to allow for data analysis using the replica\n",
    "\n",
    "Additional discretionary objectives of this project include:\n",
    "* Publishing an open source Python API wrapper for the MLSGrid API\n",
    "* Publishing an open source Python package to enable the primary objectives of this project\n",
    "\n",
    "Unfortunately, as of the time of this project, MLSGrid does not provide any Python enablement of any of this (be it API, SDK, etc...).  Hence, this project is born.\n",
    "\n",
    "We're working through the [MLSGrid documentation](https://docs.mlsgrid.com/api-documentation/api-version-2.0) to build the Python wrapper to the MLSGrid API.  Some important notes as we start.\n",
    "* MLSGrid only provide a replication API, which uses the rather stodgy and seemingly outdated ODATA standard.\n",
    "* MLSGrid's support team seems thinly staffed, which has resulted in a rather \"go it alone\" approach to getting this done."
   ]
  },
  {
   "cell_type": "markdown",
   "metadata": {},
   "source": [
    "## Scaffolding the Project\n",
    "This is going to be a bit iterative, but let's stub it out as follows:\n",
    "\n",
    "```\n",
    "mlsgrid_api\n",
    "|   mred_notebook.ipynb\n",
    "|   COPYING\n",
    "|   README.md\n",
    "|   .gitignore\n",
    "|   requirements.txt\n",
    "|   .env\n",
    "|   mlsgrid_api.py\n",
    "|___.venv (python -m venv .venv)\n",
    "    |   ...venv stuff here...\n",
    "|___tests\n",
    "    |   test_mlsgrid_api.py\n",
    "```\n",
    "\n",
    "Let's create our project directory\n",
    "\n",
    "    `mkdir mlsgrid_api && cd mlsgrid_api`\n",
    "\n",
    "### #TODO\n",
    "- [ ] Explore using this Jupyter notebook as the README.md for the GitHub repo\n",
    "    - [ ] [Google search here](https://www.google.com/search?q=use+jupyter+notebook+as+readme.md+github&oq=use+&aqs=edge.0.69i59j69i57j0i131i433i512l2j69i60j69i65l2j69i60j69i61.1202j0j1&sourceid=chrome&ie=UTF-8)\n",
    "    - [ ] [Here's an article](https://andrewpwheeler.com/2021/09/06/using-jupyter-notebooks-to-make-nice-readmes-for-github/)\n",
    "\n",
    "We're already working in this Jupyter notebook, so make sure it's in the project directory.  In order to run any of the code in this notebook, we need to setup our Python virtual environment and install some packages."
   ]
  },
  {
   "cell_type": "markdown",
   "metadata": {},
   "source": [
    "## Python Virtual Environment\n",
    "Let's create our virtual environment.  We'll do this in the shell.\n",
    "\n",
    "    `python -m venv .venv`\n",
    "\n",
    "Let's activate our new Python environment.\n",
    "\n",
    "    `source /.venv/bin/activate`\n",
    "\n",
    "Now, let's upgrade `pip` as it will complain otherwise ...\n",
    "\n",
    "    `pip install --upgrade pip`\n",
    "\n",
    "Let's now install `jupyterlab` to get all of the goodness.\n",
    "\n",
    "    `pip install jupyterlab`\n",
    "\n",
    "You can now start VSCode in the project directory.\n",
    "\n",
    "    `code .`\n",
    "\n",
    "If you're working in VSCode, make sure you switch the interpreter & kernel to use your newly created virtual environment in this notebook going forward.\n",
    "\n",
    "We will publish this project publicly, opting for the **GNU General Public License v3.0** license after using [Choose A License](https://choosealicense.com/) for help.  The license is contained in the `LICENSE` file in the project directory."
   ]
  },
  {
   "cell_type": "code",
   "execution_count": 2,
   "metadata": {},
   "outputs": [
    {
     "name": "stdout",
     "output_type": "stream",
     "text": [
      "  % Total    % Received % Xferd  Average Speed   Time    Time     Time  Current\n",
      "                                 Dload  Upload   Total   Spent    Left  Speed\n",
      "100 35149  100 35149    0     0   134k      0 --:--:-- --:--:-- --:--:--  134k\n"
     ]
    }
   ],
   "source": [
    "! curl https://www.gnu.org/licenses/gpl-3.0.txt -o LICENSE"
   ]
  },
  {
   "cell_type": "markdown",
   "metadata": {},
   "source": [
    "## Git Repository\n",
    "Let's setup a git repo for the work we're doing so that we can manage versioning.  Before we do that, as we'll be working with sensitive API keys in our `.env` file, and we also have our virtual environment installed in the project directory (`./.venv/`), let's pull down a good Python-relevant `.gitignore` file to exclude these from the repo.  We'll use the version that [GitHub provides here](https://github.com/github/gitignore/blob/e5323759e387ba347a9d50f8b0ddd16502eb71d4/Python.gitignore)."
   ]
  },
  {
   "cell_type": "code",
   "execution_count": 8,
   "metadata": {},
   "outputs": [
    {
     "name": "stdout",
     "output_type": "stream",
     "text": [
      "  % Total    % Received % Xferd  Average Speed   Time    Time     Time  Current\n",
      "                                 Dload  Upload   Total   Spent    Left  Speed\n",
      "100  3078  100  3078    0     0  13042      0 --:--:-- --:--:-- --:--:-- 12987\n"
     ]
    }
   ],
   "source": [
    "! curl https://raw.githubusercontent.com/github/gitignore/main/Python.gitignore -o .gitignore"
   ]
  },
  {
   "cell_type": "markdown",
   "metadata": {},
   "source": [
    "Now, we're ready to initialize our git repo."
   ]
  },
  {
   "cell_type": "code",
   "execution_count": 9,
   "metadata": {},
   "outputs": [
    {
     "name": "stdout",
     "output_type": "stream",
     "text": [
      "Initialized empty Git repository in /home/captivus/projects/mlsgrid_api/.git/\n"
     ]
    }
   ],
   "source": [
    "! git init"
   ]
  },
  {
   "cell_type": "markdown",
   "metadata": {},
   "source": [
    "Let's add everything we have so far to our local repo."
   ]
  },
  {
   "cell_type": "code",
   "execution_count": 10,
   "metadata": {},
   "outputs": [],
   "source": [
    "! git add ."
   ]
  },
  {
   "cell_type": "markdown",
   "metadata": {},
   "source": [
    "Let's check the status of what's about to be committed to our git repo."
   ]
  },
  {
   "cell_type": "code",
   "execution_count": 11,
   "metadata": {},
   "outputs": [
    {
     "name": "stdout",
     "output_type": "stream",
     "text": [
      "On branch master\n",
      "\n",
      "No commits yet\n",
      "\n",
      "Changes to be committed:\n",
      "  (use \"git rm --cached <file>...\" to unstage)\n",
      "\t\u001b[32mnew file:   .gitignore\u001b[m\n",
      "\t\u001b[32mnew file:   LICENSE\u001b[m\n",
      "\t\u001b[32mnew file:   README.md\u001b[m\n",
      "\t\u001b[32mnew file:   mred_notebook.ipynb\u001b[m\n",
      "\n"
     ]
    }
   ],
   "source": [
    "! git status"
   ]
  },
  {
   "cell_type": "markdown",
   "metadata": {},
   "source": [
    "Now, let's commit it."
   ]
  },
  {
   "cell_type": "code",
   "execution_count": 12,
   "metadata": {},
   "outputs": [
    {
     "name": "stdout",
     "output_type": "stream",
     "text": [
      "[master (root-commit) 659b78f] initial commit\n",
      " 4 files changed, 992 insertions(+)\n",
      " create mode 100644 .gitignore\n",
      " create mode 100644 LICENSE\n",
      " create mode 100644 README.md\n",
      " create mode 100644 mred_notebook.ipynb\n"
     ]
    }
   ],
   "source": [
    "! git commit -m 'initial commit'"
   ]
  },
  {
   "cell_type": "markdown",
   "metadata": {},
   "source": [
    "We'll move everything in the branch we're on to the `main` branch."
   ]
  },
  {
   "cell_type": "code",
   "execution_count": 13,
   "metadata": {},
   "outputs": [],
   "source": [
    "! git branch --move main"
   ]
  },
  {
   "cell_type": "markdown",
   "metadata": {},
   "source": [
    "Now let's link our local repo up to our GitHub repository.  NB you'll change your repository to match the one you created at GitHub earlier."
   ]
  },
  {
   "cell_type": "code",
   "execution_count": 14,
   "metadata": {},
   "outputs": [],
   "source": [
    "! git remote add origin git@github.com:captivus/mlsgrid_api.git"
   ]
  },
  {
   "cell_type": "markdown",
   "metadata": {},
   "source": [
    "With this done, let's push our local repo to the GitHub repo."
   ]
  },
  {
   "cell_type": "code",
   "execution_count": 15,
   "metadata": {},
   "outputs": [
    {
     "name": "stdout",
     "output_type": "stream",
     "text": [
      "Host key fingerprint is SHA256:p2QAMXNIC1TJYWeIOttrVc98/R1BUFWu3/LiyKgUfQM\n",
      "+---[ECDSA 256]---+\n",
      "| .o=X*+      .o.=|\n",
      "|  .o=O         o |\n",
      "| .  . .   E   . .|\n",
      "|o     .. . .   o |\n",
      "| +   . +S o.o . .|\n",
      "|. . .  o++.... o.|\n",
      "|   o    o.   ...+|\n",
      "|  o    .   o .oo.|\n",
      "| .      ... o....|\n",
      "+----[SHA256]-----+\n",
      "Enumerating objects: 6, done.\n",
      "Counting objects: 100% (6/6), done.\n",
      "Delta compression using up to 8 threads\n",
      "Compressing objects: 100% (5/5), done.\n",
      "Writing objects: 100% (6/6), 15.83 KiB | 3.96 MiB/s, done.\n",
      "Total 6 (delta 0), reused 0 (delta 0)\n",
      "To github.com:captivus/mlsgrid_api.git\n",
      " * [new branch]      main -> main\n",
      "Branch 'main' set up to track remote branch 'main' from 'origin'.\n"
     ]
    }
   ],
   "source": [
    "! git push --set-upstream origin main"
   ]
  },
  {
   "cell_type": "markdown",
   "metadata": {},
   "source": [
    "Great, now we're all setup with both local and remote git repositories."
   ]
  },
  {
   "cell_type": "markdown",
   "metadata": {},
   "source": [
    "## Python Modules Needed for the Project\n",
    "This will be iterative as we work through building the project, but we know we need these modules to start.\n",
    "* `requests` (for interacting with the MLSGrid API)\n",
    "* `python-dotenv` (to load our .env file which contains our secrets / API keys)\n",
    "* `pytest` (to perform testing on the MLSGrid API wrapper we're going to build)\n",
    "\n",
    "Let's add these to our `requirements.txt` file.  We'll use a [here document](https://wiki.bash-hackers.org/syntax/redirection#here_documents) to do this from the shell, using Jupyter's `%%bash` magic command."
   ]
  },
  {
   "cell_type": "code",
   "execution_count": 24,
   "metadata": {},
   "outputs": [],
   "source": [
    "%%bash\n",
    "\n",
    "cat > requirements.txt << 'EOF'\n",
    "requests\n",
    "python-dotenv\n",
    "pytest\n",
    "EOF"
   ]
  },
  {
   "cell_type": "markdown",
   "metadata": {},
   "source": [
    "Now, we'll install these dependencies."
   ]
  },
  {
   "cell_type": "code",
   "execution_count": 25,
   "metadata": {},
   "outputs": [
    {
     "name": "stdout",
     "output_type": "stream",
     "text": [
      "Requirement already satisfied: requests in ./.venv/lib/python3.9/site-packages (from -r requirements.txt (line 1)) (2.28.1)\n",
      "Collecting python-dotenv\n",
      "  Using cached python_dotenv-0.21.0-py3-none-any.whl (18 kB)\n",
      "Collecting pytest\n",
      "  Using cached pytest-7.1.3-py3-none-any.whl (298 kB)\n",
      "Requirement already satisfied: urllib3<1.27,>=1.21.1 in ./.venv/lib/python3.9/site-packages (from requests->-r requirements.txt (line 1)) (1.26.12)\n",
      "Requirement already satisfied: charset-normalizer<3,>=2 in ./.venv/lib/python3.9/site-packages (from requests->-r requirements.txt (line 1)) (2.1.1)\n",
      "Requirement already satisfied: idna<4,>=2.5 in ./.venv/lib/python3.9/site-packages (from requests->-r requirements.txt (line 1)) (3.3)\n",
      "Requirement already satisfied: certifi>=2017.4.17 in ./.venv/lib/python3.9/site-packages (from requests->-r requirements.txt (line 1)) (2022.6.15)\n",
      "Collecting pluggy<2.0,>=0.12\n",
      "  Using cached pluggy-1.0.0-py2.py3-none-any.whl (13 kB)\n",
      "Requirement already satisfied: attrs>=19.2.0 in ./.venv/lib/python3.9/site-packages (from pytest->-r requirements.txt (line 3)) (22.1.0)\n",
      "Requirement already satisfied: packaging in ./.venv/lib/python3.9/site-packages (from pytest->-r requirements.txt (line 3)) (21.3)\n",
      "Collecting py>=1.8.2\n",
      "  Using cached py-1.11.0-py2.py3-none-any.whl (98 kB)\n",
      "Collecting iniconfig\n",
      "  Using cached iniconfig-1.1.1-py2.py3-none-any.whl (5.0 kB)\n",
      "Collecting tomli>=1.0.0\n",
      "  Using cached tomli-2.0.1-py3-none-any.whl (12 kB)\n",
      "Requirement already satisfied: pyparsing!=3.0.5,>=2.0.2 in ./.venv/lib/python3.9/site-packages (from packaging->pytest->-r requirements.txt (line 3)) (3.0.9)\n",
      "Installing collected packages: iniconfig, tomli, python-dotenv, py, pluggy, pytest\n",
      "Successfully installed iniconfig-1.1.1 pluggy-1.0.0 py-1.11.0 pytest-7.1.3 python-dotenv-0.21.0 tomli-2.0.1\n"
     ]
    }
   ],
   "source": [
    "! pip install -r requirements.txt"
   ]
  },
  {
   "cell_type": "markdown",
   "metadata": {},
   "source": [
    "Let's update our git repo and push."
   ]
  },
  {
   "cell_type": "code",
   "execution_count": 26,
   "metadata": {},
   "outputs": [
    {
     "name": "stdout",
     "output_type": "stream",
     "text": [
      "[main bc0c373] added requirements\n",
      " 1 file changed, 299 insertions(+), 26 deletions(-)\n",
      "Host key fingerprint is SHA256:p2QAMXNIC1TJYWeIOttrVc98/R1BUFWu3/LiyKgUfQM\n",
      "+---[ECDSA 256]---+\n",
      "| .o=X*+      .o.=|\n",
      "|  .o=O         o |\n",
      "| .  . .   E   . .|\n",
      "|o     .. . .   o |\n",
      "| +   . +S o.o . .|\n",
      "|. . .  o++.... o.|\n",
      "|   o    o.   ...+|\n",
      "|  o    .   o .oo.|\n",
      "| .      ... o....|\n",
      "+----[SHA256]-----+\n",
      "Enumerating objects: 5, done.\n",
      "Counting objects: 100% (5/5), done.\n",
      "Delta compression using up to 8 threads\n",
      "Compressing objects: 100% (3/3), done.\n",
      "Writing objects: 100% (3/3), 4.28 KiB | 876.00 KiB/s, done.\n",
      "Total 3 (delta 1), reused 0 (delta 0)\n",
      "remote: Resolving deltas: 100% (1/1), completed with 1 local object.\u001b[K\n",
      "To github.com:captivus/mlsgrid_api.git\n",
      "   659b78f..bc0c373  main -> main\n"
     ]
    }
   ],
   "source": [
    "! git commit -am 'added requirements' && git push"
   ]
  },
  {
   "cell_type": "markdown",
   "metadata": {},
   "source": [
    "Hrmmm ... that didn't quite do it.  Let's check git status."
   ]
  },
  {
   "cell_type": "code",
   "execution_count": 27,
   "metadata": {},
   "outputs": [
    {
     "name": "stdout",
     "output_type": "stream",
     "text": [
      "On branch main\n",
      "Your branch is up to date with 'origin/main'.\n",
      "\n",
      "Untracked files:\n",
      "  (use \"git add <file>...\" to include in what will be committed)\n",
      "\t\u001b[31mrequirements.txt\u001b[m\n",
      "\n",
      "nothing added to commit but untracked files present (use \"git add\" to track)\n"
     ]
    }
   ],
   "source": [
    "! git status"
   ]
  },
  {
   "cell_type": "code",
   "execution_count": 29,
   "metadata": {},
   "outputs": [
    {
     "name": "stdout",
     "output_type": "stream",
     "text": [
      "[main db6f5f1] added requirements\n",
      " 1 file changed, 3 insertions(+)\n",
      " create mode 100644 requirements.txt\n",
      "Host key fingerprint is SHA256:p2QAMXNIC1TJYWeIOttrVc98/R1BUFWu3/LiyKgUfQM\n",
      "+---[ECDSA 256]---+\n",
      "| .o=X*+      .o.=|\n",
      "|  .o=O         o |\n",
      "| .  . .   E   . .|\n",
      "|o     .. . .   o |\n",
      "| +   . +S o.o . .|\n",
      "|. . .  o++.... o.|\n",
      "|   o    o.   ...+|\n",
      "|  o    .   o .oo.|\n",
      "| .      ... o....|\n",
      "+----[SHA256]-----+\n",
      "Enumerating objects: 4, done.\n",
      "Counting objects: 100% (4/4), done.\n",
      "Delta compression using up to 8 threads\n",
      "Compressing objects: 100% (2/2), done.\n",
      "Writing objects: 100% (3/3), 319 bytes | 319.00 KiB/s, done.\n",
      "Total 3 (delta 1), reused 0 (delta 0)\n",
      "remote: Resolving deltas: 100% (1/1), completed with 1 local object.\u001b[K\n",
      "To github.com:captivus/mlsgrid_api.git\n",
      "   bc0c373..db6f5f1  main -> main\n"
     ]
    }
   ],
   "source": [
    "! git add --all && git commit -m 'added requirements' && git push"
   ]
  },
  {
   "cell_type": "markdown",
   "metadata": {},
   "source": [
    "There we go!"
   ]
  },
  {
   "cell_type": "markdown",
   "metadata": {},
   "source": [
    "## Project Approach\n",
    "We'll iterate through our primary objectives, starting first with building a Python wrapper for the MLSGrid replication API."
   ]
  },
  {
   "cell_type": "markdown",
   "metadata": {},
   "source": [
    "## Python Wrapper for the MLSGrid Replication API\n",
    "We're working through the [MLSGrid API documentation here](https://docs.mlsgrid.com/api-documentation/api-version-2.0).  Let's setup the replication API.  First, we need a variable to store the API endpoint."
   ]
  },
  {
   "cell_type": "code",
   "execution_count": 30,
   "metadata": {},
   "outputs": [],
   "source": [
    "MLSGRID_API_URL = 'https://api.mlsgrid.com/v2/'"
   ]
  },
  {
   "cell_type": "markdown",
   "metadata": {},
   "source": [
    "We'll store our API bearer token in our `.env` file, and export that as an environment variable using the `load_dotenv()` method of the `dotenv` module.  We'll then pull the environment variable value using `os.environ.get()`."
   ]
  },
  {
   "cell_type": "code",
   "execution_count": 32,
   "metadata": {},
   "outputs": [],
   "source": [
    "from dotenv import load_dotenv\n",
    "import os\n",
    "\n",
    "load_dotenv()\n",
    "MLSGRID_API_TOKEN=os.environ.get('MLSGRID_API_TOKEN')"
   ]
  },
  {
   "cell_type": "markdown",
   "metadata": {},
   "source": [
    "Now that we have our API token stored, let's setup a `requests.Session` object and parameterize the headers of it to use our bearer token in accordance with the MLSGrid documentation."
   ]
  },
  {
   "cell_type": "code",
   "execution_count": 34,
   "metadata": {},
   "outputs": [],
   "source": [
    "import requests\n",
    "\n",
    "session = requests.Session()\n",
    "session.headers.update( {'Authorization' : 'Bearer ' + MLSGRID_API_TOKEN})"
   ]
  },
  {
   "cell_type": "markdown",
   "metadata": {},
   "source": [
    "We now have a requests session that we can use to query the MLSGrid API endpoint as an authorized user.  Let's test that this is working.  We'll check to see that we can access the Property entity of the API, looking only for the first result."
   ]
  },
  {
   "cell_type": "code",
   "execution_count": 62,
   "metadata": {},
   "outputs": [
    {
     "name": "stdout",
     "output_type": "stream",
     "text": [
      "<Response [200]>\n",
      "<class 'dict'>\n"
     ]
    }
   ],
   "source": [
    "import json\n",
    "\n",
    "response = session.get(url=MLSGRID_API_URL + 'Property?$top=1')\n",
    "print(response)\n",
    "print(type(response.json()))"
   ]
  },
  {
   "cell_type": "markdown",
   "metadata": {},
   "source": [
    "We see, here, that we've managed to pull a response from the MLSGrid API, with [HTTP response code 200](https://developer.mozilla.org/en-US/docs/Web/HTTP/Status/200) meaning that our request was successful!  \n",
    "\n",
    "We also see that we can cast the response to JSON and we get a dictionary back.  We can \"pretty print\" that JSON dictionary as follows."
   ]
  },
  {
   "cell_type": "code",
   "execution_count": 57,
   "metadata": {},
   "outputs": [
    {
     "data": {
      "text/plain": [
       "{'@odata.context': 'https://api.mlsgrid.com/v2/$metadata#Property',\n",
       " 'value': [{'@odata.id': \"https://api.mlsgrid.com/v2/Property('MRD05253841')\",\n",
       "   'MRD_AAN': '847-309-1177',\n",
       "   'LotSizeAcres': 0.25,\n",
       "   'RoomType': ['Utility Room-1st Floor'],\n",
       "   'SpecialListingConditions': ['None'],\n",
       "   'InternetAddressDisplayYN': True,\n",
       "   'MRD_AGE': '26-50 Years',\n",
       "   'Cooling': ['Central Air'],\n",
       "   'CommunityFeatures': ['Water Rights'],\n",
       "   'MRD_AMT': '0',\n",
       "   'MRD_AON': 'Yes',\n",
       "   'Appliances': ['Range',\n",
       "    'Microwave',\n",
       "    'Dishwasher',\n",
       "    'Refrigerator',\n",
       "    'Washer',\n",
       "    'Dryer'],\n",
       "   'MLSAreaMajor': 'Wauconda',\n",
       "   'LivingArea': 0,\n",
       "   'LivingAreaSource': 'Not Reported',\n",
       "   'AssociationFee': 0,\n",
       "   'MRD_ATC': 'Full',\n",
       "   'MRD_B78': 'Yes',\n",
       "   'MRD_BAS': 'Crawl',\n",
       "   'MRD_BB': 'No',\n",
       "   'Basement': ['None'],\n",
       "   'MRD_BOARDNUM': '2',\n",
       "   'BedroomsTotal': 3,\n",
       "   'BedroomsPossible': 3,\n",
       "   'MRD_BRBELOW': '0',\n",
       "   'MRD_CARS': '4',\n",
       "   'BuyerAgencyCompensation': '2.5%-100',\n",
       "   'City': 'WAUCONDA',\n",
       "   'CloseDate': '2007-01-02',\n",
       "   'CountyOrParish': 'Lake',\n",
       "   'PurchaseContractDate': '2006-04-08',\n",
       "   'MRD_CRP': 'WAUCONDA',\n",
       "   'LotSizeDimensions': '75X125',\n",
       "   'MRD_DIN': 'Separate',\n",
       "   'Directions': '176 E OF MAIN TO RIDGE S TO KIMBALL E TO HOME',\n",
       "   'MRD_DRV': 'Concrete',\n",
       "   'MRD_E': '0',\n",
       "   'Electric': ['Circuit Breakers'],\n",
       "   'OtherEquipment': ['TV-Cable'],\n",
       "   'MRD_EXT': 'Cedar',\n",
       "   'MRD_FIN': 'Conventional',\n",
       "   'MRD_FIREPLACE_LOCATION': 'Living Room',\n",
       "   'FoundationDetails': ['Concrete Perimeter'],\n",
       "   'FireplacesTotal': 1,\n",
       "   'FireplaceFeatures': ['Wood Burning'],\n",
       "   'MRD_FRANCHISOR_FEED': 'No',\n",
       "   'AssociationFeeFrequency': 'Not Applicable',\n",
       "   'BathroomsFull': 1,\n",
       "   'BathroomsTotalInteger': 1,\n",
       "   'MRD_GAR': 'None/NA',\n",
       "   'MRD_GARAGE_OWNERSHIP': 'N/A',\n",
       "   'ElementarySchool': 'ROBERT CROWN ELEMENTARY SCHOOL',\n",
       "   'ElementarySchoolDistrict': '118',\n",
       "   'Heating': ['Natural Gas', 'Forced Air'],\n",
       "   'MRD_HEM': 'Yes',\n",
       "   'HighSchool': 'WAUCON',\n",
       "   'HighSchoolDistrict': '118',\n",
       "   'StreetNumber': '551',\n",
       "   'MRD_IDX': 'Y',\n",
       "   'Sewer': ['Public Sewer'],\n",
       "   'WaterSource': ['Community Well'],\n",
       "   'MRD_INF': 'None',\n",
       "   'InternetEntireListingDisplayYN': True,\n",
       "   'MiddleOrJuniorSchool': 'WAUCON',\n",
       "   'MiddleOrJuniorSchoolDistrict': '118',\n",
       "   'MRD_LACITY': 'Barrington',\n",
       "   'ListAgentEmail': 'NINABELLINE@AOL.COM; nina.belline@bairdwarner.com',\n",
       "   'ListAgentFirstName': 'Nina',\n",
       "   'ListAgentMlsId': 'MRD62445',\n",
       "   'ListAgentKey': 'MRD62445',\n",
       "   'ListAgentLastName': 'Belline',\n",
       "   'ListAgentOfficePhone': '847-309-1177',\n",
       "   'MRD_LASTATE': 'IL',\n",
       "   'MRD_LASTREETNAME': 'Farnsworth',\n",
       "   'MRD_LASTREETNUMBER': '431',\n",
       "   'MRD_LAZIP': '60010',\n",
       "   'ListingContractDate': '2005-10-04',\n",
       "   'OriginalEntryTimestamp': '2005-10-04T05:00:00.000Z',\n",
       "   'LotFeatures': ['Channel Front', 'Water View', 'Wooded'],\n",
       "   'ListingAgreement': 'Exclusive Right To Sell',\n",
       "   'PreviousListPrice': 189900,\n",
       "   'DaysOnMarket': 187,\n",
       "   'ListingKey': 'MRD05253841',\n",
       "   'ListingId': 'MRD05253841',\n",
       "   'MRD_LO_LOCATION': '8002',\n",
       "   'MRD_LOCITY': 'Arlington Heights',\n",
       "   'ListOfficeFax': '(847) 392-0678',\n",
       "   'ListOfficeMlsId': 'MRD3149',\n",
       "   'ListOfficeKey': 'MRD3149',\n",
       "   'ListOfficeName': 'Baird & Warner',\n",
       "   'ListOfficePhone': '847-392-1855',\n",
       "   'MRD_LOSTATE': 'IL',\n",
       "   'MRD_LOSTREETNAME': 'Northwest Hwy',\n",
       "   'MRD_LOSTREETNUMBER': '210',\n",
       "   'ListOfficeURL': 'www.bairdwarner.com',\n",
       "   'MRD_LOZIP': '60004',\n",
       "   'ListPrice': 184500,\n",
       "   'MRD_LSZ': '.25-.49 Acre',\n",
       "   'AssociationFeeIncludes': ['None'],\n",
       "   'MRD_MANAGINGBROKER': 'No',\n",
       "   'MRD_MC': 'Off-Market',\n",
       "   'Model': 'RANCH',\n",
       "   'AdditionalParcelsYN': False,\n",
       "   'CumulativeDaysOnMarket': 187,\n",
       "   'MRD_N': '27',\n",
       "   'NewConstructionYN': False,\n",
       "   'ParkingTotal': 4,\n",
       "   'OriginalListPrice': 194500,\n",
       "   'OffMarketDate': '2006-04-08',\n",
       "   'MRD_OMT': '0',\n",
       "   'OwnerPhone': '847-459-5600',\n",
       "   'Ownership': 'Fee Simple',\n",
       "   'OwnerName': 'OF RECORD',\n",
       "   'ParkingFeatures': ['Unassigned'],\n",
       "   'PhotosCount': 1,\n",
       "   'ParcelNumber': '09253060250000',\n",
       "   'MRD_PKN': 'Space/s',\n",
       "   'Possession': ['Closing'],\n",
       "   'OriginatingSystemModificationTimestamp': '2007-01-02T21:32:57.000Z',\n",
       "   'MRD_RECORDMODDATE': '2007-01-02T21:32:57.000Z',\n",
       "   'PublicRemarks': \"DAZZLING UPDATED RANCH FEATURING NEWER WHITE CABINETS, NEWER FLOORING. POLISHED HARDWOOD FLOORS IN ALL THE BEDROOMS COZY LIVING ROOM WITH WOOD BURNING FIREPLACE. SPACIOUS FAMILY ROOM, COMPLETE NEWER BATH, CHANNEL IN THE BACK YARD AND LAKE RIGHTS. DON'T MISS THIS ONE ITS ADORABLE!!!!     \",\n",
       "   'MRD_REMARKSINTERNET': 'Yes',\n",
       "   'PropertyType': 'Residential',\n",
       "   'MRD_TYP': 'Detached Single',\n",
       "   'RoomsTotal': 7,\n",
       "   'Roof': ['Asphalt'],\n",
       "   'MRD_S': '0',\n",
       "   'MRD_SACITY': 'MUNDELEIN',\n",
       "   'BuyerAgentEmail': 'jcbratta@earthlink.net',\n",
       "   'BuyerAgentFax': '(847) 566-1490',\n",
       "   'BuyerAgentFirstName': 'Chris',\n",
       "   'BuyerAgentMlsId': 'MRD20789',\n",
       "   'BuyerAgentKey': 'MRD20789',\n",
       "   'BuyerAgentLastName': 'Bratta',\n",
       "   'BuyerAgentOfficePhone': '847-732-7212',\n",
       "   'MRD_SAS': 'N',\n",
       "   'MRD_SASTATE': 'IL',\n",
       "   'MRD_SASTREETNAME': 'PRIMROSE LANE',\n",
       "   'MRD_SASTREETNUMBER': '27566',\n",
       "   'MRD_SAZIP': '60060',\n",
       "   'MRD_SCI': 'None',\n",
       "   'Concessions': 'No',\n",
       "   'ShowingInstructions': 'CALL LISTING OFFICE',\n",
       "   'MRD_SO_LOCATION': '2512',\n",
       "   'MRD_SOCITY': 'Mundelein',\n",
       "   'BuyerOfficeEmail': 'c21bbrua@gmail.com',\n",
       "   'BuyerOfficeFax': '(847) 566-0587',\n",
       "   'BuyerOfficeMlsId': 'MRD2512',\n",
       "   'BuyerOfficeKey': 'MRD2512',\n",
       "   'BuyerOfficeName': 'Century 21 Market Place, Ltd.',\n",
       "   'BuyerOfficePhone': '847-949-7100',\n",
       "   'MRD_SOSTATE': 'IL',\n",
       "   'MRD_SOSTREETNAME': 'N. Lake Street',\n",
       "   'MRD_SOSTREETNUMBER': '700',\n",
       "   'MRD_SOZIP': '60060',\n",
       "   'ClosePrice': 181000,\n",
       "   'MlsStatus': 'Closed',\n",
       "   'StandardStatus': 'Closed',\n",
       "   'StateOrProvince': 'IL',\n",
       "   'StatusChangeTimestamp': '2007-01-02T21:32:57.000Z',\n",
       "   'StreetName': 'KIMBALL AVENUE',\n",
       "   'ArchitecturalStyle': ['Ranch'],\n",
       "   'TaxAnnualAmount': 2881,\n",
       "   'MRD_TPE': '1 Story',\n",
       "   'BuyerFinancing': ['Conventional', 'FHA', 'VA'],\n",
       "   'Township': 'WAUCOND',\n",
       "   'MRD_TXC': 'Homeowner',\n",
       "   'TaxYear': 2004,\n",
       "   'MRD_UD': '2007-01-02T21:32:57',\n",
       "   'MRD_VT': 'None',\n",
       "   'MRD_VTDATE': '2006-09-19T08:40:51',\n",
       "   'MRD_W': '25',\n",
       "   'WaterfrontYN': True,\n",
       "   'PostalCode': '60084',\n",
       "   'PostalCodePlus4': '0',\n",
       "   'OriginatingSystemName': 'mred',\n",
       "   'ModificationTimestamp': '2021-05-04T20:27:18.208Z',\n",
       "   'PhotosChangeTimestamp': '2021-05-04T20:27:18.208Z',\n",
       "   'MlgCanView': True}],\n",
       " '@odata.nextLink': 'https://api.mlsgrid.com/v2/Property?$top=1&$skip=1'}"
      ]
     },
     "execution_count": 57,
     "metadata": {},
     "output_type": "execute_result"
    }
   ],
   "source": [
    "response.json()"
   ]
  },
  {
   "cell_type": "code",
   "execution_count": 65,
   "metadata": {},
   "outputs": [
    {
     "name": "stdout",
     "output_type": "stream",
     "text": [
      "{\n",
      "    \"@odata.context\": \"https://api.mlsgrid.com/v2/$metadata#Property\",\n",
      "    \"value\": [\n",
      "        {\n",
      "            \"@odata.id\": \"https://api.mlsgrid.com/v2/Property('MRD05253841')\",\n",
      "            \"MRD_AAN\": \"847-309-1177\",\n",
      "            \"LotSizeAcres\": 0.25,\n",
      "            \"RoomType\": [\n",
      "                \"Utility Room-1st Floor\"\n",
      "            ],\n",
      "            \"SpecialListingConditions\": [\n",
      "                \"None\"\n",
      "            ],\n",
      "            \"InternetAddressDisplayYN\": true,\n",
      "            \"MRD_AGE\": \"26-50 Years\",\n",
      "            \"Cooling\": [\n",
      "                \"Central Air\"\n",
      "            ],\n",
      "            \"CommunityFeatures\": [\n",
      "                \"Water Rights\"\n",
      "            ],\n",
      "            \"MRD_AMT\": \"0\",\n",
      "            \"MRD_AON\": \"Yes\",\n",
      "            \"Appliances\": [\n",
      "                \"Range\",\n",
      "                \"Microwave\",\n",
      "                \"Dishwasher\",\n",
      "                \"Refrigerator\",\n",
      "                \"Washer\",\n",
      "                \"Dryer\"\n",
      "            ],\n",
      "            \"MLSAreaMajor\": \"Wauconda\",\n",
      "            \"LivingArea\": 0,\n",
      "            \"LivingAreaSource\": \"Not Reported\",\n",
      "            \"AssociationFee\": 0,\n",
      "            \"MRD_ATC\": \"Full\",\n",
      "            \"MRD_B78\": \"Yes\",\n",
      "            \"MRD_BAS\": \"Crawl\",\n",
      "            \"MRD_BB\": \"No\",\n",
      "            \"Basement\": [\n",
      "                \"None\"\n",
      "            ],\n",
      "            \"MRD_BOARDNUM\": \"2\",\n",
      "            \"BedroomsTotal\": 3,\n",
      "            \"BedroomsPossible\": 3,\n",
      "            \"MRD_BRBELOW\": \"0\",\n",
      "            \"MRD_CARS\": \"4\",\n",
      "            \"BuyerAgencyCompensation\": \"2.5%-100\",\n",
      "            \"City\": \"WAUCONDA\",\n",
      "            \"CloseDate\": \"2007-01-02\",\n",
      "            \"CountyOrParish\": \"Lake\",\n",
      "            \"PurchaseContractDate\": \"2006-04-08\",\n",
      "            \"MRD_CRP\": \"WAUCONDA\",\n",
      "            \"LotSizeDimensions\": \"75X125\",\n",
      "            \"MRD_DIN\": \"Separate\",\n",
      "            \"Directions\": \"176 E OF MAIN TO RIDGE S TO KIMBALL E TO HOME\",\n",
      "            \"MRD_DRV\": \"Concrete\",\n",
      "            \"MRD_E\": \"0\",\n",
      "            \"Electric\": [\n",
      "                \"Circuit Breakers\"\n",
      "            ],\n",
      "            \"OtherEquipment\": [\n",
      "                \"TV-Cable\"\n",
      "            ],\n",
      "            \"MRD_EXT\": \"Cedar\",\n",
      "            \"MRD_FIN\": \"Conventional\",\n",
      "            \"MRD_FIREPLACE_LOCATION\": \"Living Room\",\n",
      "            \"FoundationDetails\": [\n",
      "                \"Concrete Perimeter\"\n",
      "            ],\n",
      "            \"FireplacesTotal\": 1,\n",
      "            \"FireplaceFeatures\": [\n",
      "                \"Wood Burning\"\n",
      "            ],\n",
      "            \"MRD_FRANCHISOR_FEED\": \"No\",\n",
      "            \"AssociationFeeFrequency\": \"Not Applicable\",\n",
      "            \"BathroomsFull\": 1,\n",
      "            \"BathroomsTotalInteger\": 1,\n",
      "            \"MRD_GAR\": \"None/NA\",\n",
      "            \"MRD_GARAGE_OWNERSHIP\": \"N/A\",\n",
      "            \"ElementarySchool\": \"ROBERT CROWN ELEMENTARY SCHOOL\",\n",
      "            \"ElementarySchoolDistrict\": \"118\",\n",
      "            \"Heating\": [\n",
      "                \"Natural Gas\",\n",
      "                \"Forced Air\"\n",
      "            ],\n",
      "            \"MRD_HEM\": \"Yes\",\n",
      "            \"HighSchool\": \"WAUCON\",\n",
      "            \"HighSchoolDistrict\": \"118\",\n",
      "            \"StreetNumber\": \"551\",\n",
      "            \"MRD_IDX\": \"Y\",\n",
      "            \"Sewer\": [\n",
      "                \"Public Sewer\"\n",
      "            ],\n",
      "            \"WaterSource\": [\n",
      "                \"Community Well\"\n",
      "            ],\n",
      "            \"MRD_INF\": \"None\",\n",
      "            \"InternetEntireListingDisplayYN\": true,\n",
      "            \"MiddleOrJuniorSchool\": \"WAUCON\",\n",
      "            \"MiddleOrJuniorSchoolDistrict\": \"118\",\n",
      "            \"MRD_LACITY\": \"Barrington\",\n",
      "            \"ListAgentEmail\": \"NINABELLINE@AOL.COM; nina.belline@bairdwarner.com\",\n",
      "            \"ListAgentFirstName\": \"Nina\",\n",
      "            \"ListAgentMlsId\": \"MRD62445\",\n",
      "            \"ListAgentKey\": \"MRD62445\",\n",
      "            \"ListAgentLastName\": \"Belline\",\n",
      "            \"ListAgentOfficePhone\": \"847-309-1177\",\n",
      "            \"MRD_LASTATE\": \"IL\",\n",
      "            \"MRD_LASTREETNAME\": \"Farnsworth\",\n",
      "            \"MRD_LASTREETNUMBER\": \"431\",\n",
      "            \"MRD_LAZIP\": \"60010\",\n",
      "            \"ListingContractDate\": \"2005-10-04\",\n",
      "            \"OriginalEntryTimestamp\": \"2005-10-04T05:00:00.000Z\",\n",
      "            \"LotFeatures\": [\n",
      "                \"Channel Front\",\n",
      "                \"Water View\",\n",
      "                \"Wooded\"\n",
      "            ],\n",
      "            \"ListingAgreement\": \"Exclusive Right To Sell\",\n",
      "            \"PreviousListPrice\": 189900,\n",
      "            \"DaysOnMarket\": 187,\n",
      "            \"ListingKey\": \"MRD05253841\",\n",
      "            \"ListingId\": \"MRD05253841\",\n",
      "            \"MRD_LO_LOCATION\": \"8002\",\n",
      "            \"MRD_LOCITY\": \"Arlington Heights\",\n",
      "            \"ListOfficeFax\": \"(847) 392-0678\",\n",
      "            \"ListOfficeMlsId\": \"MRD3149\",\n",
      "            \"ListOfficeKey\": \"MRD3149\",\n",
      "            \"ListOfficeName\": \"Baird & Warner\",\n",
      "            \"ListOfficePhone\": \"847-392-1855\",\n",
      "            \"MRD_LOSTATE\": \"IL\",\n",
      "            \"MRD_LOSTREETNAME\": \"Northwest Hwy\",\n",
      "            \"MRD_LOSTREETNUMBER\": \"210\",\n",
      "            \"ListOfficeURL\": \"www.bairdwarner.com\",\n",
      "            \"MRD_LOZIP\": \"60004\",\n",
      "            \"ListPrice\": 184500,\n",
      "            \"MRD_LSZ\": \".25-.49 Acre\",\n",
      "            \"AssociationFeeIncludes\": [\n",
      "                \"None\"\n",
      "            ],\n",
      "            \"MRD_MANAGINGBROKER\": \"No\",\n",
      "            \"MRD_MC\": \"Off-Market\",\n",
      "            \"Model\": \"RANCH\",\n",
      "            \"AdditionalParcelsYN\": false,\n",
      "            \"CumulativeDaysOnMarket\": 187,\n",
      "            \"MRD_N\": \"27\",\n",
      "            \"NewConstructionYN\": false,\n",
      "            \"ParkingTotal\": 4,\n",
      "            \"OriginalListPrice\": 194500,\n",
      "            \"OffMarketDate\": \"2006-04-08\",\n",
      "            \"MRD_OMT\": \"0\",\n",
      "            \"OwnerPhone\": \"847-459-5600\",\n",
      "            \"Ownership\": \"Fee Simple\",\n",
      "            \"OwnerName\": \"OF RECORD\",\n",
      "            \"ParkingFeatures\": [\n",
      "                \"Unassigned\"\n",
      "            ],\n",
      "            \"PhotosCount\": 1,\n",
      "            \"ParcelNumber\": \"09253060250000\",\n",
      "            \"MRD_PKN\": \"Space/s\",\n",
      "            \"Possession\": [\n",
      "                \"Closing\"\n",
      "            ],\n",
      "            \"OriginatingSystemModificationTimestamp\": \"2007-01-02T21:32:57.000Z\",\n",
      "            \"MRD_RECORDMODDATE\": \"2007-01-02T21:32:57.000Z\",\n",
      "            \"PublicRemarks\": \"DAZZLING UPDATED RANCH FEATURING NEWER WHITE CABINETS, NEWER FLOORING. POLISHED HARDWOOD FLOORS IN ALL THE BEDROOMS COZY LIVING ROOM WITH WOOD BURNING FIREPLACE. SPACIOUS FAMILY ROOM, COMPLETE NEWER BATH, CHANNEL IN THE BACK YARD AND LAKE RIGHTS. DON'T MISS THIS ONE ITS ADORABLE!!!!     \",\n",
      "            \"MRD_REMARKSINTERNET\": \"Yes\",\n",
      "            \"PropertyType\": \"Residential\",\n",
      "            \"MRD_TYP\": \"Detached Single\",\n",
      "            \"RoomsTotal\": 7,\n",
      "            \"Roof\": [\n",
      "                \"Asphalt\"\n",
      "            ],\n",
      "            \"MRD_S\": \"0\",\n",
      "            \"MRD_SACITY\": \"MUNDELEIN\",\n",
      "            \"BuyerAgentEmail\": \"jcbratta@earthlink.net\",\n",
      "            \"BuyerAgentFax\": \"(847) 566-1490\",\n",
      "            \"BuyerAgentFirstName\": \"Chris\",\n",
      "            \"BuyerAgentMlsId\": \"MRD20789\",\n",
      "            \"BuyerAgentKey\": \"MRD20789\",\n",
      "            \"BuyerAgentLastName\": \"Bratta\",\n",
      "            \"BuyerAgentOfficePhone\": \"847-732-7212\",\n",
      "            \"MRD_SAS\": \"N\",\n",
      "            \"MRD_SASTATE\": \"IL\",\n",
      "            \"MRD_SASTREETNAME\": \"PRIMROSE LANE\",\n",
      "            \"MRD_SASTREETNUMBER\": \"27566\",\n",
      "            \"MRD_SAZIP\": \"60060\",\n",
      "            \"MRD_SCI\": \"None\",\n",
      "            \"Concessions\": \"No\",\n",
      "            \"ShowingInstructions\": \"CALL LISTING OFFICE\",\n",
      "            \"MRD_SO_LOCATION\": \"2512\",\n",
      "            \"MRD_SOCITY\": \"Mundelein\",\n",
      "            \"BuyerOfficeEmail\": \"c21bbrua@gmail.com\",\n",
      "            \"BuyerOfficeFax\": \"(847) 566-0587\",\n",
      "            \"BuyerOfficeMlsId\": \"MRD2512\",\n",
      "            \"BuyerOfficeKey\": \"MRD2512\",\n",
      "            \"BuyerOfficeName\": \"Century 21 Market Place, Ltd.\",\n",
      "            \"BuyerOfficePhone\": \"847-949-7100\",\n",
      "            \"MRD_SOSTATE\": \"IL\",\n",
      "            \"MRD_SOSTREETNAME\": \"N. Lake Street\",\n",
      "            \"MRD_SOSTREETNUMBER\": \"700\",\n",
      "            \"MRD_SOZIP\": \"60060\",\n",
      "            \"ClosePrice\": 181000,\n",
      "            \"MlsStatus\": \"Closed\",\n",
      "            \"StandardStatus\": \"Closed\",\n",
      "            \"StateOrProvince\": \"IL\",\n",
      "            \"StatusChangeTimestamp\": \"2007-01-02T21:32:57.000Z\",\n",
      "            \"StreetName\": \"KIMBALL AVENUE\",\n",
      "            \"ArchitecturalStyle\": [\n",
      "                \"Ranch\"\n",
      "            ],\n",
      "            \"TaxAnnualAmount\": 2881,\n",
      "            \"MRD_TPE\": \"1 Story\",\n",
      "            \"BuyerFinancing\": [\n",
      "                \"Conventional\",\n",
      "                \"FHA\",\n",
      "                \"VA\"\n",
      "            ],\n",
      "            \"Township\": \"WAUCOND\",\n",
      "            \"MRD_TXC\": \"Homeowner\",\n",
      "            \"TaxYear\": 2004,\n",
      "            \"MRD_UD\": \"2007-01-02T21:32:57\",\n",
      "            \"MRD_VT\": \"None\",\n",
      "            \"MRD_VTDATE\": \"2006-09-19T08:40:51\",\n",
      "            \"MRD_W\": \"25\",\n",
      "            \"WaterfrontYN\": true,\n",
      "            \"PostalCode\": \"60084\",\n",
      "            \"PostalCodePlus4\": \"0\",\n",
      "            \"OriginatingSystemName\": \"mred\",\n",
      "            \"ModificationTimestamp\": \"2021-05-04T20:27:18.208Z\",\n",
      "            \"PhotosChangeTimestamp\": \"2021-05-04T20:27:18.208Z\",\n",
      "            \"MlgCanView\": true\n",
      "        }\n",
      "    ],\n",
      "    \"@odata.nextLink\": \"https://api.mlsgrid.com/v2/Property?$top=1&$skip=1\"\n",
      "}\n"
     ]
    }
   ],
   "source": [
    "parsed = json.dumps(response.json(), indent=4)\n",
    "print(parsed)"
   ]
  },
  {
   "cell_type": "markdown",
   "metadata": {},
   "source": [
    "Per the MLSGrid API documentation there are [expanded resources](https://docs.mlsgrid.com/api-documentation/api-version-2.0#resource-naming-1) that we will be querying so that they are embedded in the data returned to us.  These expanded resource names are as follows.\n",
    "\n",
    "| Expanded Resource Name | Resources that can Expand this Resource | Description |\n",
    "| ----- | ----- | -----|\n",
    "| Media | Property, Member, Office | Media expandable resource. These are the media files associated with a Property, Member, or Office record. |\n",
    "| Rooms | Property | Rooms expandable resource. These are the Room records associated with a Property record. |\n",
    "| UnitTypes | Property | UnitTypes expandable resource. These are the UnitType records associated with a Property record. |\n",
    "\n",
    "We'll add these expanded resources to the query we pass the API just now to make sure we're getting all of the data that we're after."
   ]
  },
  {
   "cell_type": "code",
   "execution_count": 89,
   "metadata": {},
   "outputs": [
    {
     "name": "stdout",
     "output_type": "stream",
     "text": [
      "{\n",
      "    \"@odata.context\": \"https://api.mlsgrid.com/v2/$metadata#Property\",\n",
      "    \"value\": [\n",
      "        {\n",
      "            \"@odata.id\": \"https://api.mlsgrid.com/v2/Property('MRD05253841')\",\n",
      "            \"MRD_AAN\": \"847-309-1177\",\n",
      "            \"LotSizeAcres\": 0.25,\n",
      "            \"RoomType\": [\n",
      "                \"Utility Room-1st Floor\"\n",
      "            ],\n",
      "            \"SpecialListingConditions\": [\n",
      "                \"None\"\n",
      "            ],\n",
      "            \"InternetAddressDisplayYN\": true,\n",
      "            \"MRD_AGE\": \"26-50 Years\",\n",
      "            \"Cooling\": [\n",
      "                \"Central Air\"\n",
      "            ],\n",
      "            \"CommunityFeatures\": [\n",
      "                \"Water Rights\"\n",
      "            ],\n",
      "            \"MRD_AMT\": \"0\",\n",
      "            \"MRD_AON\": \"Yes\",\n",
      "            \"Appliances\": [\n",
      "                \"Range\",\n",
      "                \"Microwave\",\n",
      "                \"Dishwasher\",\n",
      "                \"Refrigerator\",\n",
      "                \"Washer\",\n",
      "                \"Dryer\"\n",
      "            ],\n",
      "            \"MLSAreaMajor\": \"Wauconda\",\n",
      "            \"LivingArea\": 0,\n",
      "            \"LivingAreaSource\": \"Not Reported\",\n",
      "            \"AssociationFee\": 0,\n",
      "            \"MRD_ATC\": \"Full\",\n",
      "            \"MRD_B78\": \"Yes\",\n",
      "            \"MRD_BAS\": \"Crawl\",\n",
      "            \"MRD_BB\": \"No\",\n",
      "            \"Basement\": [\n",
      "                \"None\"\n",
      "            ],\n",
      "            \"MRD_BOARDNUM\": \"2\",\n",
      "            \"BedroomsTotal\": 3,\n",
      "            \"BedroomsPossible\": 3,\n",
      "            \"MRD_BRBELOW\": \"0\",\n",
      "            \"MRD_CARS\": \"4\",\n",
      "            \"BuyerAgencyCompensation\": \"2.5%-100\",\n",
      "            \"City\": \"WAUCONDA\",\n",
      "            \"CloseDate\": \"2007-01-02\",\n",
      "            \"CountyOrParish\": \"Lake\",\n",
      "            \"PurchaseContractDate\": \"2006-04-08\",\n",
      "            \"MRD_CRP\": \"WAUCONDA\",\n",
      "            \"LotSizeDimensions\": \"75X125\",\n",
      "            \"MRD_DIN\": \"Separate\",\n",
      "            \"Directions\": \"176 E OF MAIN TO RIDGE S TO KIMBALL E TO HOME\",\n",
      "            \"MRD_DRV\": \"Concrete\",\n",
      "            \"MRD_E\": \"0\",\n",
      "            \"Electric\": [\n",
      "                \"Circuit Breakers\"\n",
      "            ],\n",
      "            \"OtherEquipment\": [\n",
      "                \"TV-Cable\"\n",
      "            ],\n",
      "            \"MRD_EXT\": \"Cedar\",\n",
      "            \"MRD_FIN\": \"Conventional\",\n",
      "            \"MRD_FIREPLACE_LOCATION\": \"Living Room\",\n",
      "            \"FoundationDetails\": [\n",
      "                \"Concrete Perimeter\"\n",
      "            ],\n",
      "            \"FireplacesTotal\": 1,\n",
      "            \"FireplaceFeatures\": [\n",
      "                \"Wood Burning\"\n",
      "            ],\n",
      "            \"MRD_FRANCHISOR_FEED\": \"No\",\n",
      "            \"AssociationFeeFrequency\": \"Not Applicable\",\n",
      "            \"BathroomsFull\": 1,\n",
      "            \"BathroomsTotalInteger\": 1,\n",
      "            \"MRD_GAR\": \"None/NA\",\n",
      "            \"MRD_GARAGE_OWNERSHIP\": \"N/A\",\n",
      "            \"ElementarySchool\": \"ROBERT CROWN ELEMENTARY SCHOOL\",\n",
      "            \"ElementarySchoolDistrict\": \"118\",\n",
      "            \"Heating\": [\n",
      "                \"Natural Gas\",\n",
      "                \"Forced Air\"\n",
      "            ],\n",
      "            \"MRD_HEM\": \"Yes\",\n",
      "            \"HighSchool\": \"WAUCON\",\n",
      "            \"HighSchoolDistrict\": \"118\",\n",
      "            \"StreetNumber\": \"551\",\n",
      "            \"MRD_IDX\": \"Y\",\n",
      "            \"Sewer\": [\n",
      "                \"Public Sewer\"\n",
      "            ],\n",
      "            \"WaterSource\": [\n",
      "                \"Community Well\"\n",
      "            ],\n",
      "            \"MRD_INF\": \"None\",\n",
      "            \"InternetEntireListingDisplayYN\": true,\n",
      "            \"MiddleOrJuniorSchool\": \"WAUCON\",\n",
      "            \"MiddleOrJuniorSchoolDistrict\": \"118\",\n",
      "            \"MRD_LACITY\": \"Barrington\",\n",
      "            \"ListAgentEmail\": \"NINABELLINE@AOL.COM; nina.belline@bairdwarner.com\",\n",
      "            \"ListAgentFirstName\": \"Nina\",\n",
      "            \"ListAgentMlsId\": \"MRD62445\",\n",
      "            \"ListAgentKey\": \"MRD62445\",\n",
      "            \"ListAgentLastName\": \"Belline\",\n",
      "            \"ListAgentOfficePhone\": \"847-309-1177\",\n",
      "            \"MRD_LASTATE\": \"IL\",\n",
      "            \"MRD_LASTREETNAME\": \"Farnsworth\",\n",
      "            \"MRD_LASTREETNUMBER\": \"431\",\n",
      "            \"MRD_LAZIP\": \"60010\",\n",
      "            \"ListingContractDate\": \"2005-10-04\",\n",
      "            \"OriginalEntryTimestamp\": \"2005-10-04T05:00:00.000Z\",\n",
      "            \"LotFeatures\": [\n",
      "                \"Channel Front\",\n",
      "                \"Water View\",\n",
      "                \"Wooded\"\n",
      "            ],\n",
      "            \"ListingAgreement\": \"Exclusive Right To Sell\",\n",
      "            \"PreviousListPrice\": 189900,\n",
      "            \"DaysOnMarket\": 187,\n",
      "            \"ListingKey\": \"MRD05253841\",\n",
      "            \"ListingId\": \"MRD05253841\",\n",
      "            \"MRD_LO_LOCATION\": \"8002\",\n",
      "            \"MRD_LOCITY\": \"Arlington Heights\",\n",
      "            \"ListOfficeFax\": \"(847) 392-0678\",\n",
      "            \"ListOfficeMlsId\": \"MRD3149\",\n",
      "            \"ListOfficeKey\": \"MRD3149\",\n",
      "            \"ListOfficeName\": \"Baird & Warner\",\n",
      "            \"ListOfficePhone\": \"847-392-1855\",\n",
      "            \"MRD_LOSTATE\": \"IL\",\n",
      "            \"MRD_LOSTREETNAME\": \"Northwest Hwy\",\n",
      "            \"MRD_LOSTREETNUMBER\": \"210\",\n",
      "            \"ListOfficeURL\": \"www.bairdwarner.com\",\n",
      "            \"MRD_LOZIP\": \"60004\",\n",
      "            \"ListPrice\": 184500,\n",
      "            \"MRD_LSZ\": \".25-.49 Acre\",\n",
      "            \"AssociationFeeIncludes\": [\n",
      "                \"None\"\n",
      "            ],\n",
      "            \"MRD_MANAGINGBROKER\": \"No\",\n",
      "            \"MRD_MC\": \"Off-Market\",\n",
      "            \"Model\": \"RANCH\",\n",
      "            \"AdditionalParcelsYN\": false,\n",
      "            \"CumulativeDaysOnMarket\": 187,\n",
      "            \"MRD_N\": \"27\",\n",
      "            \"NewConstructionYN\": false,\n",
      "            \"ParkingTotal\": 4,\n",
      "            \"OriginalListPrice\": 194500,\n",
      "            \"OffMarketDate\": \"2006-04-08\",\n",
      "            \"MRD_OMT\": \"0\",\n",
      "            \"OwnerPhone\": \"847-459-5600\",\n",
      "            \"Ownership\": \"Fee Simple\",\n",
      "            \"OwnerName\": \"OF RECORD\",\n",
      "            \"ParkingFeatures\": [\n",
      "                \"Unassigned\"\n",
      "            ],\n",
      "            \"PhotosCount\": 1,\n",
      "            \"ParcelNumber\": \"09253060250000\",\n",
      "            \"MRD_PKN\": \"Space/s\",\n",
      "            \"Possession\": [\n",
      "                \"Closing\"\n",
      "            ],\n",
      "            \"OriginatingSystemModificationTimestamp\": \"2007-01-02T21:32:57.000Z\",\n",
      "            \"MRD_RECORDMODDATE\": \"2007-01-02T21:32:57.000Z\",\n",
      "            \"PublicRemarks\": \"DAZZLING UPDATED RANCH FEATURING NEWER WHITE CABINETS, NEWER FLOORING. POLISHED HARDWOOD FLOORS IN ALL THE BEDROOMS COZY LIVING ROOM WITH WOOD BURNING FIREPLACE. SPACIOUS FAMILY ROOM, COMPLETE NEWER BATH, CHANNEL IN THE BACK YARD AND LAKE RIGHTS. DON'T MISS THIS ONE ITS ADORABLE!!!!     \",\n",
      "            \"MRD_REMARKSINTERNET\": \"Yes\",\n",
      "            \"PropertyType\": \"Residential\",\n",
      "            \"MRD_TYP\": \"Detached Single\",\n",
      "            \"RoomsTotal\": 7,\n",
      "            \"Roof\": [\n",
      "                \"Asphalt\"\n",
      "            ],\n",
      "            \"MRD_S\": \"0\",\n",
      "            \"MRD_SACITY\": \"MUNDELEIN\",\n",
      "            \"BuyerAgentEmail\": \"jcbratta@earthlink.net\",\n",
      "            \"BuyerAgentFax\": \"(847) 566-1490\",\n",
      "            \"BuyerAgentFirstName\": \"Chris\",\n",
      "            \"BuyerAgentMlsId\": \"MRD20789\",\n",
      "            \"BuyerAgentKey\": \"MRD20789\",\n",
      "            \"BuyerAgentLastName\": \"Bratta\",\n",
      "            \"BuyerAgentOfficePhone\": \"847-732-7212\",\n",
      "            \"MRD_SAS\": \"N\",\n",
      "            \"MRD_SASTATE\": \"IL\",\n",
      "            \"MRD_SASTREETNAME\": \"PRIMROSE LANE\",\n",
      "            \"MRD_SASTREETNUMBER\": \"27566\",\n",
      "            \"MRD_SAZIP\": \"60060\",\n",
      "            \"MRD_SCI\": \"None\",\n",
      "            \"Concessions\": \"No\",\n",
      "            \"ShowingInstructions\": \"CALL LISTING OFFICE\",\n",
      "            \"MRD_SO_LOCATION\": \"2512\",\n",
      "            \"MRD_SOCITY\": \"Mundelein\",\n",
      "            \"BuyerOfficeEmail\": \"c21bbrua@gmail.com\",\n",
      "            \"BuyerOfficeFax\": \"(847) 566-0587\",\n",
      "            \"BuyerOfficeMlsId\": \"MRD2512\",\n",
      "            \"BuyerOfficeKey\": \"MRD2512\",\n",
      "            \"BuyerOfficeName\": \"Century 21 Market Place, Ltd.\",\n",
      "            \"BuyerOfficePhone\": \"847-949-7100\",\n",
      "            \"MRD_SOSTATE\": \"IL\",\n",
      "            \"MRD_SOSTREETNAME\": \"N. Lake Street\",\n",
      "            \"MRD_SOSTREETNUMBER\": \"700\",\n",
      "            \"MRD_SOZIP\": \"60060\",\n",
      "            \"ClosePrice\": 181000,\n",
      "            \"MlsStatus\": \"Closed\",\n",
      "            \"StandardStatus\": \"Closed\",\n",
      "            \"StateOrProvince\": \"IL\",\n",
      "            \"StatusChangeTimestamp\": \"2007-01-02T21:32:57.000Z\",\n",
      "            \"StreetName\": \"KIMBALL AVENUE\",\n",
      "            \"ArchitecturalStyle\": [\n",
      "                \"Ranch\"\n",
      "            ],\n",
      "            \"TaxAnnualAmount\": 2881,\n",
      "            \"MRD_TPE\": \"1 Story\",\n",
      "            \"BuyerFinancing\": [\n",
      "                \"Conventional\",\n",
      "                \"FHA\",\n",
      "                \"VA\"\n",
      "            ],\n",
      "            \"Township\": \"WAUCOND\",\n",
      "            \"MRD_TXC\": \"Homeowner\",\n",
      "            \"TaxYear\": 2004,\n",
      "            \"MRD_UD\": \"2007-01-02T21:32:57\",\n",
      "            \"MRD_VT\": \"None\",\n",
      "            \"MRD_VTDATE\": \"2006-09-19T08:40:51\",\n",
      "            \"MRD_W\": \"25\",\n",
      "            \"WaterfrontYN\": true,\n",
      "            \"PostalCode\": \"60084\",\n",
      "            \"PostalCodePlus4\": \"0\",\n",
      "            \"OriginatingSystemName\": \"mred\",\n",
      "            \"ModificationTimestamp\": \"2021-05-04T20:27:18.208Z\",\n",
      "            \"Media\": [\n",
      "                {\n",
      "                    \"ImageHeight\": 400,\n",
      "                    \"Order\": 0,\n",
      "                    \"ImageWidth\": 512,\n",
      "                    \"MediaURL\": \"http://mredllc.media-cs.connectmls.com/029C91FBA8D11FD0E040010A20016150/P_0_05253841.JPEG\",\n",
      "                    \"MediaModificationTimestamp\": \"2016-04-29T22:49:32.000Z\",\n",
      "                    \"MediaKey\": \"5aaa02feb61ff020b9176556\"\n",
      "                }\n",
      "            ],\n",
      "            \"PhotosChangeTimestamp\": \"2021-05-04T20:27:18.208Z\",\n",
      "            \"Rooms\": [\n",
      "                {\n",
      "                    \"MRD_Flooring\": \"Hardwood\",\n",
      "                    \"RoomLevel\": \"Main\",\n",
      "                    \"RoomDimensions\": \"13X10\",\n",
      "                    \"RoomType\": \"Bedroom 2\",\n",
      "                    \"MRD_WindowTreatments\": \"All\",\n",
      "                    \"RoomKey\": \"MRD05253841Group_11\"\n",
      "                },\n",
      "                {\n",
      "                    \"MRD_Flooring\": \"Hardwood\",\n",
      "                    \"RoomLevel\": \"Main\",\n",
      "                    \"RoomDimensions\": \"11X09\",\n",
      "                    \"RoomType\": \"Bedroom 3\",\n",
      "                    \"MRD_WindowTreatments\": \"All\",\n",
      "                    \"RoomKey\": \"MRD05253841Group_12\"\n",
      "                },\n",
      "                {\n",
      "                    \"MRD_Flooring\": \"Vinyl\",\n",
      "                    \"RoomLevel\": \"Main\",\n",
      "                    \"RoomDimensions\": \"12X10\",\n",
      "                    \"RoomType\": \"Dining Room\",\n",
      "                    \"MRD_WindowTreatments\": \"All\",\n",
      "                    \"RoomKey\": \"MRD05253841Group_14\"\n",
      "                },\n",
      "                {\n",
      "                    \"MRD_Flooring\": \"Ceramic Tile\",\n",
      "                    \"RoomLevel\": \"Main\",\n",
      "                    \"RoomDimensions\": \"17X13\",\n",
      "                    \"RoomType\": \"Family Room\",\n",
      "                    \"MRD_WindowTreatments\": \"All\",\n",
      "                    \"RoomKey\": \"MRD05253841Group_15\"\n",
      "                },\n",
      "                {\n",
      "                    \"MRD_Flooring\": \"Vinyl\",\n",
      "                    \"RoomLevel\": \"Main\",\n",
      "                    \"RoomDimensions\": \"12X08\",\n",
      "                    \"RoomType\": \"Kitchen\",\n",
      "                    \"MRD_WindowTreatments\": \"All\",\n",
      "                    \"MRD_Type\": \"Eating Area-Breakfast Bar\",\n",
      "                    \"RoomKey\": \"MRD05253841Group_16\"\n",
      "                },\n",
      "                {\n",
      "                    \"MRD_Flooring\": \"Carpet\",\n",
      "                    \"RoomLevel\": \"Main\",\n",
      "                    \"RoomDimensions\": \"19X14\",\n",
      "                    \"RoomType\": \"Living Room\",\n",
      "                    \"MRD_WindowTreatments\": \"All\",\n",
      "                    \"RoomKey\": \"MRD05253841Group_18\"\n",
      "                },\n",
      "                {\n",
      "                    \"MRD_Bath\": \"None\",\n",
      "                    \"MRD_Flooring\": \"Hardwood\",\n",
      "                    \"RoomLevel\": \"Main\",\n",
      "                    \"RoomDimensions\": \"13X12\",\n",
      "                    \"RoomType\": \"Master Bedroom\",\n",
      "                    \"MRD_WindowTreatments\": \"All\",\n",
      "                    \"RoomKey\": \"MRD05253841Group_19\"\n",
      "                }\n",
      "            ],\n",
      "            \"MlgCanView\": true\n",
      "        }\n",
      "    ],\n",
      "    \"@odata.nextLink\": \"https://api.mlsgrid.com/v2/Property?$top=1&$expand=Media%2CRooms%2CUnitTypes&$skip=1\"\n",
      "}\n",
      "[{'ImageHeight': 400, 'Order': 0, 'ImageWidth': 512, 'MediaURL': 'http://mredllc.media-cs.connectmls.com/029C91FBA8D11FD0E040010A20016150/P_0_05253841.JPEG', 'MediaModificationTimestamp': '2016-04-29T22:49:32.000Z', 'MediaKey': '5aaa02feb61ff020b9176556'}]\n"
     ]
    }
   ],
   "source": [
    "response = session.get(url=MLSGRID_API_URL + 'Property?$top=1&$expand=Media,Rooms,UnitTypes')\n",
    "parsed = json.dumps(response.json(), indent=4)\n",
    "print(parsed)\n",
    "print(response.json()['value'][0]['Media'])"
   ]
  },
  {
   "cell_type": "markdown",
   "metadata": {},
   "source": [
    "Before we commit these changes to the git repo, let's double check that our `.gitignore` file is, in fact, ignoring the secret that we've stored in our `.env` file."
   ]
  },
  {
   "cell_type": "code",
   "execution_count": 42,
   "metadata": {},
   "outputs": [
    {
     "name": "stdout",
     "output_type": "stream",
     "text": [
      ".env\n",
      "venv/\n",
      "venv.bak/\n"
     ]
    }
   ],
   "source": [
    "! cat .gitignore | grep -w '^.env'"
   ]
  },
  {
   "cell_type": "markdown",
   "metadata": {},
   "source": [
    "We're good to go, so let's commit these changes."
   ]
  },
  {
   "cell_type": "markdown",
   "metadata": {},
   "source": []
  }
 ],
 "metadata": {
  "kernelspec": {
   "display_name": "Python 3.9.13 ('.venv': venv)",
   "language": "python",
   "name": "python3"
  },
  "language_info": {
   "codemirror_mode": {
    "name": "ipython",
    "version": 3
   },
   "file_extension": ".py",
   "mimetype": "text/x-python",
   "name": "python",
   "nbconvert_exporter": "python",
   "pygments_lexer": "ipython3",
   "version": "3.9.13"
  },
  "orig_nbformat": 4,
  "vscode": {
   "interpreter": {
    "hash": "ab866d2def94a525f82b85f4a791ce75daf54b8e73b7177677d0f97a34cd75d0"
   }
  }
 },
 "nbformat": 4,
 "nbformat_minor": 2
}
