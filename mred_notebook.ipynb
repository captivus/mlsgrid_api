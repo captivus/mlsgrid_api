{
 "cells": [
  {
   "cell_type": "markdown",
   "metadata": {},
   "source": [
    "# MLSGrid MRED MLS Replication Working Notebook\n",
    "## Objectives & Overview\n",
    "This project will, ultimately, deploy an application to Amazon Web Services (AWS) which accomplishes the following primary objectives.\n",
    "* Replicates the MRED MLS database\n",
    "    1. First in an initial replication and then\n",
    "    1. Maintains an updated replica of the MLS\n",
    "* Provides an API to allow for data analysis using the replica\n",
    "\n",
    "Additional discretionary objectives of this project include:\n",
    "* Publishing an open source Python API wrapper for the MLSGrid API\n",
    "* Publishing an open source Python package to enable the primary objectives of this project\n",
    "\n",
    "Unfortunately, as of the time of this project, MLSGrid does not provide any Python enablement of any of this (be it API, SDK, etc...).  Hence, this project is born.\n",
    "\n",
    "We're working through the [MLSGrid documentation](https://docs.mlsgrid.com/api-documentation/api-version-2.0) to build the Python wrapper to the MLSGrid API.  Some important notes as we start.\n",
    "* MLSGrid only provide a replication API, which uses the rather stodgy and seemingly outdated ODATA standard.\n",
    "* MLSGrid's support team seems thinly staffed, which has resulted in a rather \"go it alone\" approach to getting this done."
   ]
  },
  {
   "cell_type": "markdown",
   "metadata": {},
   "source": [
    "## Scaffolding the Project\n",
    "This is going to be a bit iterative, but let's stub it out as follows:\n",
    "\n",
    "```\n",
    "mlsgrid_api\n",
    "|   mred_notebook.ipynb\n",
    "|   COPYING\n",
    "|   README.md\n",
    "|   .gitignore\n",
    "|   requirements.txt\n",
    "|   .env\n",
    "|   mlsgrid_api.py\n",
    "|___.venv (python -m venv .venv)\n",
    "    |   ...venv stuff here...\n",
    "|___tests\n",
    "    |   test_mlsgrid_api.py\n",
    "```\n",
    "\n",
    "Let's create our project directory\n",
    "\n",
    "    `mkdir mlsgrid_api && cd mlsgrid_api`\n",
    "\n",
    "### #TODO\n",
    "- [ ] Explore using this Jupyter notebook as the README.md for the GitHub repo\n",
    "    - [ ] [Google search here](https://www.google.com/search?q=use+jupyter+notebook+as+readme.md+github&oq=use+&aqs=edge.0.69i59j69i57j0i131i433i512l2j69i60j69i65l2j69i60j69i61.1202j0j1&sourceid=chrome&ie=UTF-8)\n",
    "    - [ ] [Here's an article](https://andrewpwheeler.com/2021/09/06/using-jupyter-notebooks-to-make-nice-readmes-for-github/)\n",
    "\n",
    "We're already working in this Jupyter notebook, so make sure it's in the project directory.  In order to run any of the code in this notebook, we need to setup our Python virtual environment and install some packages."
   ]
  },
  {
   "cell_type": "markdown",
   "metadata": {},
   "source": [
    "## Python Virtual Environment\n",
    "Let's create our virtual environment.  We'll do this in the shell.\n",
    "\n",
    "    `python -m venv .venv`\n",
    "\n",
    "Let's activate our new Python environment.\n",
    "\n",
    "    `source /.venv/bin/activate`\n",
    "\n",
    "Now, let's upgrade `pip` as it will complain otherwise ...\n",
    "\n",
    "    `pip install --upgrade pip`\n",
    "\n",
    "Let's now install `jupyterlab` to get all of the goodness.\n",
    "\n",
    "    `pip install jupyterlab`\n",
    "\n",
    "You can now start VSCode in the project directory.\n",
    "\n",
    "    `code .`\n",
    "\n",
    "If you're working in VSCode, make sure you switch the interpreter & kernel to use your newly created virtual environment in this notebook going forward.\n",
    "\n",
    "We will publish this project publicly, opting for the **GNU General Public License v3.0** license after using [Choose A License](https://choosealicense.com/) for help.  The license is contained in the `LICENSE` file in the project directory."
   ]
  },
  {
   "cell_type": "code",
   "execution_count": 2,
   "metadata": {},
   "outputs": [
    {
     "name": "stdout",
     "output_type": "stream",
     "text": [
      "  % Total    % Received % Xferd  Average Speed   Time    Time     Time  Current\n",
      "                                 Dload  Upload   Total   Spent    Left  Speed\n",
      "100 35149  100 35149    0     0   134k      0 --:--:-- --:--:-- --:--:--  134k\n"
     ]
    }
   ],
   "source": [
    "! curl https://www.gnu.org/licenses/gpl-3.0.txt -o LICENSE"
   ]
  },
  {
   "cell_type": "markdown",
   "metadata": {},
   "source": [
    "## Git Repository\n",
    "Let's setup a git repo for the work we're doing so that we can manage versioning.  Before we do that, as we'll be working with sensitive API keys in our `.env` file, and we also have our virtual environment installed in the project directory (`./.venv/`), let's pull down a good Python-relevant `.gitignore` file to exclude these from the repo.  We'll use the version that [GitHub provides here](https://github.com/github/gitignore/blob/e5323759e387ba347a9d50f8b0ddd16502eb71d4/Python.gitignore)."
   ]
  },
  {
   "cell_type": "code",
   "execution_count": 8,
   "metadata": {},
   "outputs": [
    {
     "name": "stdout",
     "output_type": "stream",
     "text": [
      "  % Total    % Received % Xferd  Average Speed   Time    Time     Time  Current\n",
      "                                 Dload  Upload   Total   Spent    Left  Speed\n",
      "100  3078  100  3078    0     0  13042      0 --:--:-- --:--:-- --:--:-- 12987\n"
     ]
    }
   ],
   "source": [
    "! curl https://raw.githubusercontent.com/github/gitignore/main/Python.gitignore -o .gitignore"
   ]
  },
  {
   "cell_type": "markdown",
   "metadata": {},
   "source": [
    "Now, we're ready to initialize our git repo."
   ]
  },
  {
   "cell_type": "code",
   "execution_count": 9,
   "metadata": {},
   "outputs": [
    {
     "name": "stdout",
     "output_type": "stream",
     "text": [
      "Initialized empty Git repository in /home/captivus/projects/mlsgrid_api/.git/\n"
     ]
    }
   ],
   "source": [
    "! git init"
   ]
  },
  {
   "cell_type": "markdown",
   "metadata": {},
   "source": [
    "Let's add everything we have so far to our local repo."
   ]
  },
  {
   "cell_type": "code",
   "execution_count": 10,
   "metadata": {},
   "outputs": [],
   "source": [
    "! git add ."
   ]
  },
  {
   "cell_type": "markdown",
   "metadata": {},
   "source": [
    "Let's check the status of what's about to be committed to our git repo."
   ]
  },
  {
   "cell_type": "code",
   "execution_count": 11,
   "metadata": {},
   "outputs": [
    {
     "name": "stdout",
     "output_type": "stream",
     "text": [
      "On branch master\n",
      "\n",
      "No commits yet\n",
      "\n",
      "Changes to be committed:\n",
      "  (use \"git rm --cached <file>...\" to unstage)\n",
      "\t\u001b[32mnew file:   .gitignore\u001b[m\n",
      "\t\u001b[32mnew file:   LICENSE\u001b[m\n",
      "\t\u001b[32mnew file:   README.md\u001b[m\n",
      "\t\u001b[32mnew file:   mred_notebook.ipynb\u001b[m\n",
      "\n"
     ]
    }
   ],
   "source": [
    "! git status"
   ]
  },
  {
   "cell_type": "markdown",
   "metadata": {},
   "source": [
    "Now, let's commit it."
   ]
  },
  {
   "cell_type": "code",
   "execution_count": 12,
   "metadata": {},
   "outputs": [
    {
     "name": "stdout",
     "output_type": "stream",
     "text": [
      "[master (root-commit) 659b78f] initial commit\n",
      " 4 files changed, 992 insertions(+)\n",
      " create mode 100644 .gitignore\n",
      " create mode 100644 LICENSE\n",
      " create mode 100644 README.md\n",
      " create mode 100644 mred_notebook.ipynb\n"
     ]
    }
   ],
   "source": [
    "! git commit -m 'initial commit'"
   ]
  },
  {
   "cell_type": "markdown",
   "metadata": {},
   "source": [
    "We'll move everything in the branch we're on to the `main` branch."
   ]
  },
  {
   "cell_type": "code",
   "execution_count": 13,
   "metadata": {},
   "outputs": [],
   "source": [
    "! git branch --move main"
   ]
  },
  {
   "cell_type": "markdown",
   "metadata": {},
   "source": [
    "Now let's link our local repo up to our GitHub repository.  NB you'll change your repository to match the one you created at GitHub earlier."
   ]
  },
  {
   "cell_type": "code",
   "execution_count": 14,
   "metadata": {},
   "outputs": [],
   "source": [
    "! git remote add origin git@github.com:captivus/mlsgrid_api.git"
   ]
  },
  {
   "cell_type": "markdown",
   "metadata": {},
   "source": [
    "With this done, let's push our local repo to the GitHub repo."
   ]
  },
  {
   "cell_type": "code",
   "execution_count": 15,
   "metadata": {},
   "outputs": [
    {
     "name": "stdout",
     "output_type": "stream",
     "text": [
      "Host key fingerprint is SHA256:p2QAMXNIC1TJYWeIOttrVc98/R1BUFWu3/LiyKgUfQM\n",
      "+---[ECDSA 256]---+\n",
      "| .o=X*+      .o.=|\n",
      "|  .o=O         o |\n",
      "| .  . .   E   . .|\n",
      "|o     .. . .   o |\n",
      "| +   . +S o.o . .|\n",
      "|. . .  o++.... o.|\n",
      "|   o    o.   ...+|\n",
      "|  o    .   o .oo.|\n",
      "| .      ... o....|\n",
      "+----[SHA256]-----+\n",
      "Enumerating objects: 6, done.\n",
      "Counting objects: 100% (6/6), done.\n",
      "Delta compression using up to 8 threads\n",
      "Compressing objects: 100% (5/5), done.\n",
      "Writing objects: 100% (6/6), 15.83 KiB | 3.96 MiB/s, done.\n",
      "Total 6 (delta 0), reused 0 (delta 0)\n",
      "To github.com:captivus/mlsgrid_api.git\n",
      " * [new branch]      main -> main\n",
      "Branch 'main' set up to track remote branch 'main' from 'origin'.\n"
     ]
    }
   ],
   "source": [
    "! git push --set-upstream origin main"
   ]
  },
  {
   "cell_type": "markdown",
   "metadata": {},
   "source": [
    "Great, now we're all setup with both local and remote git repositories."
   ]
  },
  {
   "cell_type": "markdown",
   "metadata": {},
   "source": [
    "## Python Modules Needed for the Project\n",
    "This will be iterative as we work through building the project, but we know we need these modules to start.\n",
    "* `requests` (for interacting with the MLSGrid API)\n",
    "* `python-dotenv` (to load our .env file which contains our secrets / API keys)\n",
    "* `pytest` (to perform testing on the MLSGrid API wrapper we're going to build)\n",
    "\n",
    "Let's add these to our `requirements.txt` file.  We'll use a [here document](https://wiki.bash-hackers.org/syntax/redirection#here_documents) to do this from the shell, using Jupyter's `%%bash` magic command."
   ]
  },
  {
   "cell_type": "code",
   "execution_count": 24,
   "metadata": {},
   "outputs": [],
   "source": [
    "%%bash\n",
    "\n",
    "cat > requirements.txt << 'EOF'\n",
    "requests\n",
    "python-dotenv\n",
    "pytest\n",
    "EOF"
   ]
  },
  {
   "cell_type": "markdown",
   "metadata": {},
   "source": [
    "Now, we'll install these dependencies."
   ]
  },
  {
   "cell_type": "code",
   "execution_count": 25,
   "metadata": {},
   "outputs": [
    {
     "name": "stdout",
     "output_type": "stream",
     "text": [
      "Requirement already satisfied: requests in ./.venv/lib/python3.9/site-packages (from -r requirements.txt (line 1)) (2.28.1)\n",
      "Collecting python-dotenv\n",
      "  Using cached python_dotenv-0.21.0-py3-none-any.whl (18 kB)\n",
      "Collecting pytest\n",
      "  Using cached pytest-7.1.3-py3-none-any.whl (298 kB)\n",
      "Requirement already satisfied: urllib3<1.27,>=1.21.1 in ./.venv/lib/python3.9/site-packages (from requests->-r requirements.txt (line 1)) (1.26.12)\n",
      "Requirement already satisfied: charset-normalizer<3,>=2 in ./.venv/lib/python3.9/site-packages (from requests->-r requirements.txt (line 1)) (2.1.1)\n",
      "Requirement already satisfied: idna<4,>=2.5 in ./.venv/lib/python3.9/site-packages (from requests->-r requirements.txt (line 1)) (3.3)\n",
      "Requirement already satisfied: certifi>=2017.4.17 in ./.venv/lib/python3.9/site-packages (from requests->-r requirements.txt (line 1)) (2022.6.15)\n",
      "Collecting pluggy<2.0,>=0.12\n",
      "  Using cached pluggy-1.0.0-py2.py3-none-any.whl (13 kB)\n",
      "Requirement already satisfied: attrs>=19.2.0 in ./.venv/lib/python3.9/site-packages (from pytest->-r requirements.txt (line 3)) (22.1.0)\n",
      "Requirement already satisfied: packaging in ./.venv/lib/python3.9/site-packages (from pytest->-r requirements.txt (line 3)) (21.3)\n",
      "Collecting py>=1.8.2\n",
      "  Using cached py-1.11.0-py2.py3-none-any.whl (98 kB)\n",
      "Collecting iniconfig\n",
      "  Using cached iniconfig-1.1.1-py2.py3-none-any.whl (5.0 kB)\n",
      "Collecting tomli>=1.0.0\n",
      "  Using cached tomli-2.0.1-py3-none-any.whl (12 kB)\n",
      "Requirement already satisfied: pyparsing!=3.0.5,>=2.0.2 in ./.venv/lib/python3.9/site-packages (from packaging->pytest->-r requirements.txt (line 3)) (3.0.9)\n",
      "Installing collected packages: iniconfig, tomli, python-dotenv, py, pluggy, pytest\n",
      "Successfully installed iniconfig-1.1.1 pluggy-1.0.0 py-1.11.0 pytest-7.1.3 python-dotenv-0.21.0 tomli-2.0.1\n"
     ]
    }
   ],
   "source": [
    "! pip install -r requirements.txt"
   ]
  },
  {
   "cell_type": "code",
   "execution_count": null,
   "metadata": {},
   "outputs": [],
   "source": []
  }
 ],
 "metadata": {
  "kernelspec": {
   "display_name": "Python 3.9.13 ('.venv': venv)",
   "language": "python",
   "name": "python3"
  },
  "language_info": {
   "codemirror_mode": {
    "name": "ipython",
    "version": 3
   },
   "file_extension": ".py",
   "mimetype": "text/x-python",
   "name": "python",
   "nbconvert_exporter": "python",
   "pygments_lexer": "ipython3",
   "version": "3.9.13"
  },
  "orig_nbformat": 4,
  "vscode": {
   "interpreter": {
    "hash": "ab866d2def94a525f82b85f4a791ce75daf54b8e73b7177677d0f97a34cd75d0"
   }
  }
 },
 "nbformat": 4,
 "nbformat_minor": 2
}
