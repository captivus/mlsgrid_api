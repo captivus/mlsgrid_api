{
 "cells": [
  {
   "cell_type": "markdown",
   "metadata": {},
   "source": [
    "# MLSGrid MRED MLS Replication Working Notebook\n",
    "## Objectives & Overview\n",
    "This project will, ultimately, deploy an application to Amazon Web Services (AWS) which accomplishes the following primary objectives.\n",
    "* Replicates the MRED MLS database\n",
    "    1. First in an initial replication and then\n",
    "    1. Maintains an updated replica of the MLS\n",
    "* Provides an API to allow for data analysis using the replica\n",
    "\n",
    "Additional discretionary objectives of this project include:\n",
    "* Publishing an open source Python API wrapper for the MLSGrid API\n",
    "* Publishing an open source Python package to enable the primary objectives of this project\n",
    "\n",
    "Unfortunately, as of the time of this project, MLSGrid does not provide any Python enablement of any of this (be it API, SDK, etc...).  Hence, this project is born.\n",
    "\n",
    "We're working through the [MLSGrid documentation](https://docs.mlsgrid.com/api-documentation/api-version-2.0) to build the Python wrapper to the MLSGrid API.  Some important notes as we start.\n",
    "* MLSGrid only provide a replication API, which uses the rather stodgy and seemingly outdated ODATA standard.\n",
    "* MLSGrid's support team seems thinly staffed, which has resulted in a rather \"go it alone\" approach to getting this done."
   ]
  },
  {
   "cell_type": "markdown",
   "metadata": {},
   "source": [
    "## Scaffolding the Project\n",
    "This is going to be a bit iterative, but let's stub it out as follows:\n",
    "\n",
    "```\n",
    "mlsgrid_api\n",
    "|   mred_notebook.ipynb\n",
    "|   COPYING\n",
    "|   README.md\n",
    "|   .gitignore\n",
    "|   requirements.txt\n",
    "|   .env\n",
    "|   mlsgrid_api.py\n",
    "|___.venv (python -m venv .venv)\n",
    "    |   ...venv stuff here...\n",
    "|___tests\n",
    "    |   test_mlsgrid_api.py\n",
    "```\n",
    "\n",
    "Let's create our project directory\n",
    "\n",
    "    `mkdir mlsgrid_api && cd mlsgrid_api`\n",
    "\n",
    "### #TODO\n",
    "- [ ] Explore using this Jupyter notebook as the README.md for the GitHub repo\n",
    "    - [ ] [Google search here](https://www.google.com/search?q=use+jupyter+notebook+as+readme.md+github&oq=use+&aqs=edge.0.69i59j69i57j0i131i433i512l2j69i60j69i65l2j69i60j69i61.1202j0j1&sourceid=chrome&ie=UTF-8)\n",
    "    - [ ] [Here's an article](https://andrewpwheeler.com/2021/09/06/using-jupyter-notebooks-to-make-nice-readmes-for-github/)\n",
    "\n",
    "We're already working in this Jupyter notebook, so make sure it's in the project directory.  In order to run any of the code in this notebook, we need to setup our Python virtual environment and install some packages."
   ]
  },
  {
   "cell_type": "markdown",
   "metadata": {},
   "source": [
    "## Python Virtual Environment\n",
    "Let's create our virtual environment.  We'll do this in the shell.\n",
    "\n",
    "    `python -m venv .venv`\n",
    "\n",
    "Let's immediately upgrade `pip` as it will complain otherwise ...\n",
    "\n",
    "    `pip install --upgrade pip`\n",
    "\n",
    "Let's now install `jupyterlab` to get all of the goodness.\n",
    "\n",
    "    `pip install jupyterlab`\n",
    "\n",
    "If you're working in VSCode, make sure you switch the interpreter to use your newly created virtual environment in this notebook going forward.  You can do this simply by activating the virtual environment from the shell, and then launching VSCode.\n",
    "\n",
    "    `source /.venv/bin/activate && code .`\n",
    "\n",
    "We will publish this project publicly, opting for the **GNU General Public License v3.0** license after using [Choose A License](https://choosealicense.com/) for help.  The license is contained in the `LICENSE` file in the project directory."
   ]
  },
  {
   "cell_type": "code",
   "execution_count": null,
   "metadata": {},
   "outputs": [
    {
     "ename": "",
     "evalue": "",
     "output_type": "error",
     "traceback": [
      "\u001b[1;31mRunning cells with 'Python 3.8.10 64-bit' requires ipykernel package.\n",
      "\u001b[1;31mRun the following command to install 'ipykernel' into the Python environment. \n",
      "\u001b[1;31mCommand: '/usr/bin/python3 -m pip install ipykernel -U --user --force-reinstall'"
     ]
    }
   ],
   "source": [
    "! curl https://www.gnu.org/licenses/gpl-3.0.txt -o LICENSE"
   ]
  },
  {
   "cell_type": "markdown",
   "metadata": {},
   "source": [
    "## Git Repository\n",
    "Let's setup a git repo for the work we're doing so that we can manage versioning.\n",
    "\n",
    "    `git init`"
   ]
  },
  {
   "cell_type": "markdown",
   "metadata": {},
   "source": [
    "## Imports\n",
    "We need the following packages from PyPI to get this done:\n",
    "* requests\n",
    "* dotenv (load_env())\n",
    "* pytest\n",
    "\n",
    "Let's add these to our `requirements.txt` file and then install them via `pip`\n",
    "\n",
    "    `pip install -r requirements.txt`"
   ]
  },
  {
   "cell_type": "markdown",
   "metadata": {},
   "source": [
    "# Approach\n",
    "We're going to iterate through this project, incrementally building towards our objective of deploying an application, and related infrastructure, to AWS which replicates the MLSGrid MRED MLS database."
   ]
  }
 ],
 "metadata": {
  "kernelspec": {
   "display_name": "Python 3.8.10 64-bit",
   "language": "python",
   "name": "python3"
  },
  "language_info": {
   "name": "python",
   "version": "3.8.10"
  },
  "orig_nbformat": 4,
  "vscode": {
   "interpreter": {
    "hash": "31f2aee4e71d21fbe5cf8b01ff0e069b9275f58929596ceb00d14d90e3e16cd6"
   }
  }
 },
 "nbformat": 4,
 "nbformat_minor": 2
}
